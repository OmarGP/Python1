{
 "metadata": {
  "language_info": {
   "codemirror_mode": {
    "name": "ipython",
    "version": 3
   },
   "file_extension": ".py",
   "mimetype": "text/x-python",
   "name": "python",
   "nbconvert_exporter": "python",
   "pygments_lexer": "ipython3",
   "version": "3.9.4"
  },
  "orig_nbformat": 2,
  "kernelspec": {
   "name": "python394jvsc74a57bd0cbcdeb0319826df783d3b1f8fc5b8ec150f1276cd952aed196999307aabf1ebd",
   "display_name": "Python 3.9.4 64-bit"
  },
  "metadata": {
   "interpreter": {
    "hash": "cbcdeb0319826df783d3b1f8fc5b8ec150f1276cd952aed196999307aabf1ebd"
   }
  }
 },
 "nbformat": 4,
 "nbformat_minor": 2,
 "cells": [
  {
   "cell_type": "code",
   "execution_count": 3,
   "metadata": {},
   "outputs": [
    {
     "output_type": "stream",
     "name": "stdout",
     "text": [
      "10\nBuongiorno!!!\n<class 'int'>\n<class 'str'>\n30\nBonjour!!!\n<class 'int'>\n<class 'str'>\n50\nGood Morning\n<class 'int'>\n<class 'str'>\n"
     ]
    }
   ],
   "source": [
    "numero1 = 10\n",
    "numero2 = 30\n",
    "numero3 = 50\n",
    "saludo1 = \"Buongiorno!!!\"\n",
    "saludo2 = \"Bonjour!!!\"\n",
    "saludo3 = \"Good Morning\"\n",
    "\n",
    "print(numero1)\n",
    "print(saludo1)\n",
    "\n",
    "print(type(numero1))\n",
    "print(type(saludo1))\n",
    "\n",
    "print(numero2)\n",
    "print(saludo2)\n",
    "\n",
    "print(type(numero2))\n",
    "print(type(saludo2))\n",
    "\n",
    "print(numero3)\n",
    "print(saludo3)\n",
    "\n",
    "print(type(numero3))\n",
    "print(type(saludo3))"
   ]
  },
  {
   "cell_type": "code",
   "execution_count": null,
   "metadata": {},
   "outputs": [],
   "source": []
  }
 ]
}